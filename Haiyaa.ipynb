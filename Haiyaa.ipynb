{
  "nbformat": 4,
  "nbformat_minor": 0,
  "metadata": {
    "colab": {
      "name": "Untitled10.ipynb",
      "provenance": [],
      "authorship_tag": "ABX9TyPXTEceVf+VcsV6dgcFYZei",
      "include_colab_link": true
    },
    "kernelspec": {
      "name": "python3",
      "display_name": "Python 3"
    }
  },
  "cells": [
    {
      "cell_type": "markdown",
      "metadata": {
        "id": "view-in-github",
        "colab_type": "text"
      },
      "source": [
        "<a href=\"https://colab.research.google.com/github/D0641826/BaseProject-Cpp/blob/master/Haiyaa.ipynb\" target=\"_parent\"><img src=\"https://colab.research.google.com/assets/colab-badge.svg\" alt=\"Open In Colab\"/></a>"
      ]
    },
    {
      "cell_type": "code",
      "metadata": {
        "id": "RXFQ2UDadLz2",
        "outputId": "2c97c53b-1cc8-4bb0-b2fe-d9064e8f7615",
        "colab": {
          "base_uri": "https://localhost:8080/",
          "height": 369
        }
      },
      "source": [
        "import sys\n",
        "from flask import Flask, jsonify, request,render_template,session,redirect,url_for\n",
        "import pymysql \n",
        "import requests\n",
        "import traceback\n",
        "import cgi\n",
        "\n",
        "import os\n",
        "\n",
        "app = Flask(__name__)\n",
        "#student_ID=\"\"\n",
        "app.config['SESSION_PERMANENT'] = True\n",
        "app.config['SESSION_USE_SIGNER'] = False  \n",
        "app.config['SESSION_TYPE'] = 'filesystem'\n",
        "app.config['PERMANENT_SESSION_LIFETIME'] = 7200\n",
        "app.config['SESSION_FILE_THRESHOLD'] = 100  \n",
        "app.config['SECRET_KEY'] = \"advancedsw\"\n",
        "\n",
        "#conn = pymysql.connect(host=‘127.0.0.1‘, port=3307, user=‘root‘, passwd=‘hch123‘, db=‘zst‘, charset=‘utf8‘)\n",
        "db= pymysql.connect(host=\"127.0.0.1\",port=3307,user=\"advancedsw\",password=\"advancedsw\",db=\"advancedsw\")\n",
        "cursor=db.cursor()\n",
        "\n",
        "@app.route('/') #進入點\n",
        "def f_index():\n",
        "    session.clear()\n",
        "    return render_template('index.html')\n",
        "\n",
        "@app.route('/index') #登入畫面\n",
        "def login_in():\n",
        "    session.clear()\n",
        "    return render_template('index.html')\n",
        "\n",
        "@app.route('/login') #登入畫面\n",
        "def login():\n",
        "    session.clear()\n",
        "    return render_template('login.html')\n",
        "\n",
        "@app.route('/register') #註冊畫面\n",
        "def register():\n",
        "    session.clear()\n",
        "    return render_template('register.html')\n",
        "\n",
        "@app.route('/refrig') #冰箱畫面\n",
        "def refrig():\n",
        "    session.clear()\n",
        "    return render_template('refrig.html')\n",
        "\n",
        "@app.route('/menu') #菜單畫面\n",
        "def menu():\n",
        "    session.clear()\n",
        "    return render_template('menu.html')"
      ],
      "execution_count": 1,
      "outputs": [
        {
          "output_type": "error",
          "ename": "ModuleNotFoundError",
          "evalue": "ignored",
          "traceback": [
            "\u001b[0;31m---------------------------------------------------------------------------\u001b[0m",
            "\u001b[0;31mModuleNotFoundError\u001b[0m                       Traceback (most recent call last)",
            "\u001b[0;32m<ipython-input-1-936a788123b2>\u001b[0m in \u001b[0;36m<module>\u001b[0;34m()\u001b[0m\n\u001b[1;32m      1\u001b[0m \u001b[0;32mimport\u001b[0m \u001b[0msys\u001b[0m\u001b[0;34m\u001b[0m\u001b[0;34m\u001b[0m\u001b[0m\n\u001b[1;32m      2\u001b[0m \u001b[0;32mfrom\u001b[0m \u001b[0mflask\u001b[0m \u001b[0;32mimport\u001b[0m \u001b[0mFlask\u001b[0m\u001b[0;34m,\u001b[0m \u001b[0mjsonify\u001b[0m\u001b[0;34m,\u001b[0m \u001b[0mrequest\u001b[0m\u001b[0;34m,\u001b[0m\u001b[0mrender_template\u001b[0m\u001b[0;34m,\u001b[0m\u001b[0msession\u001b[0m\u001b[0;34m,\u001b[0m\u001b[0mredirect\u001b[0m\u001b[0;34m,\u001b[0m\u001b[0murl_for\u001b[0m\u001b[0;34m\u001b[0m\u001b[0;34m\u001b[0m\u001b[0m\n\u001b[0;32m----> 3\u001b[0;31m \u001b[0;32mimport\u001b[0m \u001b[0mpymysql\u001b[0m\u001b[0;34m\u001b[0m\u001b[0;34m\u001b[0m\u001b[0m\n\u001b[0m\u001b[1;32m      4\u001b[0m \u001b[0;32mimport\u001b[0m \u001b[0mrequests\u001b[0m\u001b[0;34m\u001b[0m\u001b[0;34m\u001b[0m\u001b[0m\n\u001b[1;32m      5\u001b[0m \u001b[0;32mimport\u001b[0m \u001b[0mtraceback\u001b[0m\u001b[0;34m\u001b[0m\u001b[0;34m\u001b[0m\u001b[0m\n",
            "\u001b[0;31mModuleNotFoundError\u001b[0m: No module named 'pymysql'",
            "",
            "\u001b[0;31m---------------------------------------------------------------------------\u001b[0;32m\nNOTE: If your import is failing due to a missing package, you can\nmanually install dependencies using either !pip or !apt.\n\nTo view examples of installing some common dependencies, click the\n\"Open Examples\" button below.\n\u001b[0;31m---------------------------------------------------------------------------\u001b[0m\n"
          ]
        }
      ]
    }
  ]
}